{
  "nbformat": 4,
  "nbformat_minor": 0,
  "metadata": {
    "colab": {
      "provenance": []
    },
    "kernelspec": {
      "name": "python3",
      "display_name": "Python 3"
    },
    "language_info": {
      "name": "python"
    }
  },
  "cells": [
    {
      "cell_type": "markdown",
      "source": [
        "**PYTHON BASICS QUESTIONS**"
      ],
      "metadata": {
        "id": "E_N1r6xGLTeh"
      }
    },
    {
      "cell_type": "markdown",
      "source": [
        "1. What is Python, and why is it popular?\n",
        "  - Python is a simple and powerful programming language. It is easy to read and write, which makes it great for beginners. It is used to create websites, games, apps, and even do data analysis or machine learning.\n",
        "\n",
        "    Python is popular because it has a clean syntax, a large community, and many free tools and libraries. You can do many tasks with Python, like automating boring work or building smart programs. Because of its flexibility and support, people from all fields use Python—from students to professional developers and scientists.\n",
        "2. What is an interpreter in Python?\n",
        "  - An interpreter is a program that reads and runs Python code line by line. When you write Python code, the interpreter translates each line into instructions that the computer can understand. Unlike some languages that need to be compiled (translated all at once), Python uses an interpreter to check and run the code step by step. This helps in quickly finding and fixing errors. It's also helpful for beginners because you can test your code in small parts and see the results immediately, making learning and debugging easier.\n",
        "3. What are pre-defined keywords in Python?\n",
        "  - Keywords in Python are special words that have fixed meanings and uses in the language. You cannot use them as variable names because Python uses them to understand the structure of your program. Some examples of keywords are if, else, while, for, def, and class. These words are used to create loops, conditions, functions, and more. Python has a set number of keywords, and they are always written in lowercase. You can see all of them using the keyword module in Python. These keywords help Python know what you want your code to do.\n",
        "4. Can keywords be used as variable names?\n",
        "\n",
        "  - No, you cannot use Python keywords as variable names. Keywords are already used by Python to perform specific tasks. If you try to use a keyword as a variable name, Python will show an error. For example, if = 5 is not allowed because if is a keyword used for making decisions in a program. Using keywords as variable names can confuse the Python interpreter. So, it’s always a good idea to choose other names for variables like number, total, or name instead of using special Python words.\n",
        "5. What is mutability in Python?\n",
        "  - Mutability means whether you can change an object after it is created. In Python, some objects are mutable, like lists and dictionaries. This means you can change, add, or remove their contents. Other objects are immutable, like strings, tuples, and numbers. Once they are made, you cannot change them. If you try, Python will give an error. Knowing if something is mutable helps you write better code and avoid unexpected behavior when sharing or reusing data in your program.\n",
        "6. Why are lists mutable, but tuples are immutable?\n",
        "  - Lists are mutable because their items can change—they’re used for flexible data. Tuples are immutable to protect data from being changed. This makes tuples safer and faster, especially when the data should stay constant throughout the program.\n",
        "7. What is the difference between == and is operators in Python?\n",
        "  - == checks if two values are equal. is checks if they are the exact same object in memory. So, values can be the same (==) but still be different objects (is returns False).\n",
        "8. What are logical operators in Python?\n",
        "  - Logical operators are used in conditions. and returns True if both conditions are true. or returns True if at least one is true. not reverses the result. They're helpful in if and while statements to control your program's flow.\n",
        "9. What is type casting in Python?\n",
        "  - Type casting means converting a value from one data type to another, like string to integer. It helps when working with user input or combining different data types in calculations. Use int(), float(), or str() to cast.\n",
        "\n",
        "10. What is the difference between implicit and explicit type casting?\n",
        "  - Implicit casting happens automatically, like adding an integer and float. Python changes the type for you. Explicit casting is when you do it manually using functions like int(), float(), or str(). It gives you more control over types.\n",
        "\n",
        "11. What is the purpose of conditional statements in Python?\n",
        "  - Conditional statements like if, elif, and else help your program make decisions. They let your code choose what to do based on certain conditions. It makes your programs smart and responsive to different situations.\n",
        "12. How does the elif statement work?\n",
        "  - elif means “else if.” It checks another condition if the first if is false. You can have multiple elif lines to check many options. It makes your code cleaner than writing many if statements.\n",
        "\n",
        "13. What is the difference between for and while loops?\n",
        "  - for loops run a set number of times, great for going through lists. while loops run as long as a condition is true, good when you don’t know how many times you’ll need to loop.\n",
        "\n",
        "14. Describe a scenario where a while loop is more suitable than a for loop.\n",
        "  - Use a while loop when you don’t know how many times something will repeat. For example, keep asking the user for input until they type “exit.” You can’t predict how many tries they’ll take, so a while loop works better.\n",
        "\n",
        "\n",
        "\n",
        "\n",
        "\n",
        "\n"
      ],
      "metadata": {
        "id": "xo6yRU7jLf4h"
      }
    },
    {
      "cell_type": "markdown",
      "source": [
        "**PRACTICAL QUESTIONS**"
      ],
      "metadata": {
        "id": "ROToAqi9RdZB"
      }
    },
    {
      "cell_type": "code",
      "source": [
        "# Question Write a Python program to print \"Hello, World!\n",
        "print(\"Hello, World!\")\n"
      ],
      "metadata": {
        "colab": {
          "base_uri": "https://localhost:8080/"
        },
        "id": "9JuvwzJ6RjVa",
        "outputId": "da9115f3-7625-4daa-8309-a3023565942a"
      },
      "execution_count": null,
      "outputs": [
        {
          "output_type": "stream",
          "name": "stdout",
          "text": [
            "Hello, World!\n"
          ]
        }
      ]
    },
    {
      "cell_type": "code",
      "source": [
        "# Question Write a Python program that displays your name and age.\n",
        "name = \"Sneha\"\n",
        "age = 19\n",
        "print(\"My name is\", name)\n",
        "print(\"I am\",age, \"years old\")\n",
        "\n"
      ],
      "metadata": {
        "colab": {
          "base_uri": "https://localhost:8080/"
        },
        "id": "xOf329pNSLJY",
        "outputId": "7021d5f5-52fb-4abb-c4cc-a0c447be8857"
      },
      "execution_count": null,
      "outputs": [
        {
          "output_type": "stream",
          "name": "stdout",
          "text": [
            "My name is Sneha\n",
            "I am 19 years old\n"
          ]
        }
      ]
    },
    {
      "cell_type": "code",
      "source": [
        "# Question Write code to print all the pre-defined keywords in Python using the keyword library.\n",
        "import keyword\n",
        "print(\"Python keywords are:\")\n",
        "print(keyword.kwlist)"
      ],
      "metadata": {
        "colab": {
          "base_uri": "https://localhost:8080/"
        },
        "id": "ihc3ZHNNTCid",
        "outputId": "3085e7ed-9369-46bd-bf19-9f11e7d60d48"
      },
      "execution_count": null,
      "outputs": [
        {
          "output_type": "stream",
          "name": "stdout",
          "text": [
            "Python keywords are:\n",
            "['False', 'None', 'True', 'and', 'as', 'assert', 'async', 'await', 'break', 'class', 'continue', 'def', 'del', 'elif', 'else', 'except', 'finally', 'for', 'from', 'global', 'if', 'import', 'in', 'is', 'lambda', 'nonlocal', 'not', 'or', 'pass', 'raise', 'return', 'try', 'while', 'with', 'yield']\n"
          ]
        }
      ]
    },
    {
      "cell_type": "code",
      "source": [
        "# Question Write a program that checks if a given word is a Python keyword.\n",
        "import keyword\n",
        "\n",
        "word = input(\"Enter a word: \")\n",
        "if keyword.iskeyword(word):\n",
        "    print(word, \"is a Python keyword.\")\n",
        "else:\n",
        "    print(word, \"is not a Python keyword.\")"
      ],
      "metadata": {
        "colab": {
          "base_uri": "https://localhost:8080/"
        },
        "id": "D5pEPWgWTz3v",
        "outputId": "25553c41-6786-4b09-8b4a-81277d40b5a8"
      },
      "execution_count": null,
      "outputs": [
        {
          "output_type": "stream",
          "name": "stdout",
          "text": [
            "Enter a word: True\n",
            "True is a Python keyword.\n"
          ]
        }
      ]
    },
    {
      "cell_type": "code",
      "source": [
        "# Question Create a list and tuple in Python, and demonstrate how attempting to change an element works differently for each.\n",
        "my_list = [10, 20, 30]\n",
        "my_tuple = (10, 20, 30)\n",
        "\n",
        "# Modify the first element of the list\n",
        "print(\"Original list:\", my_list)\n",
        "my_list[0] = 100  # This works because lists are mutable\n",
        "print(\"Modified list:\", my_list)\n",
        "\n",
        "# Try modifying the first element of the tuple\n",
        "print(\"\\nOriginal tuple:\", my_tuple)\n",
        "try:\n",
        "    my_tuple[0] = 100  # This will raise a TypeError\n",
        "except TypeError as e:\n",
        "    print(\"Error trying to modify tuple:\", e)\n"
      ],
      "metadata": {
        "id": "Iab6H3haWCmU",
        "colab": {
          "base_uri": "https://localhost:8080/"
        },
        "outputId": "526c9acb-1b8a-42e1-a700-6a3f8e2db68d"
      },
      "execution_count": null,
      "outputs": [
        {
          "output_type": "stream",
          "name": "stdout",
          "text": [
            "Original list: [10, 20, 30]\n",
            "Modified list: [100, 20, 30]\n",
            "\n",
            "Original tuple: (10, 20, 30)\n",
            "Error trying to modify tuple: 'tuple' object does not support item assignment\n"
          ]
        }
      ]
    },
    {
      "cell_type": "code",
      "source": [
        "# Question Write a function to demonstrate the behavior of mutable and immutable arguments.\n",
        "# Function to modify an integer (immutable)\n",
        "def modify_int(x):\n",
        "    print(\"Inside function before change (int):\", x)\n",
        "    x += 10\n",
        "    print(\"Inside function after change (int):\", x)\n",
        "\n",
        "# Function to modify a list (mutable)\n",
        "def modify_list(lst):\n",
        "    print(\"Inside function before change (list):\", lst)\n",
        "    lst.append(100)\n",
        "    print(\"Inside function after change (list):\", lst)\n",
        "\n",
        "# Main program\n",
        "num = 5\n",
        "my_list = [1, 2, 3]\n",
        "\n",
        "print(\"Before function call (int):\", num)\n",
        "modify_int(num)\n",
        "print(\"After function call (int):\", num)\n",
        "\n",
        "print(\"\\nBefore function call (list):\", my_list)\n",
        "modify_list(my_list)\n",
        "print(\"After function call (list):\", my_list)\n"
      ],
      "metadata": {
        "id": "tSMhgm7AAjXG",
        "colab": {
          "base_uri": "https://localhost:8080/"
        },
        "outputId": "a17adc8c-09d7-403a-8ac8-422d5c3e78a6"
      },
      "execution_count": null,
      "outputs": [
        {
          "output_type": "stream",
          "name": "stdout",
          "text": [
            "Before function call (int): 5\n",
            "Inside function before change (int): 5\n",
            "Inside function after change (int): 15\n",
            "After function call (int): 5\n",
            "\n",
            "Before function call (list): [1, 2, 3]\n",
            "Inside function before change (list): [1, 2, 3]\n",
            "Inside function after change (list): [1, 2, 3, 100]\n",
            "After function call (list): [1, 2, 3, 100]\n"
          ]
        }
      ]
    },
    {
      "cell_type": "code",
      "source": [
        "# Question Write a program that performs basic arithmetic operations on two user-input numbers.\n",
        "# Program to perform basic arithmetic operations\n",
        "\n",
        "# Taking input from the user\n",
        "num1 = float(input(\"Enter the first number: \"))\n",
        "num2 = float(input(\"Enter the second number: \"))\n",
        "\n",
        "# Performing operations\n",
        "print(\"\\nResults of Arithmetic Operations:\")\n",
        "print(\"Addition:\", num1 + num2)\n",
        "print(\"Subtraction:\", num1 - num2)\n",
        "print(\"Multiplication:\", num1 * num2)\n",
        "\n",
        "# Handling division by zero\n",
        "if num2 != 0:\n",
        "    print(\"Division:\", num1 / num2)\n",
        "    print(\"Modulus:\", num1 % num2)\n",
        "else:\n",
        "    print(\"Division: Cannot divide by zero!\")\n",
        "    print(\"Modulus: Cannot find modulus with zero!\")\n"
      ],
      "metadata": {
        "colab": {
          "base_uri": "https://localhost:8080/"
        },
        "id": "GjS5wNGeEVPj",
        "outputId": "3599846e-5454-4381-ace7-61d483a775e2"
      },
      "execution_count": null,
      "outputs": [
        {
          "output_type": "stream",
          "name": "stdout",
          "text": [
            "Enter the first number: 12\n",
            "Enter the second number: 4\n",
            "\n",
            "Results of Arithmetic Operations:\n",
            "Addition: 16.0\n",
            "Subtraction: 8.0\n",
            "Multiplication: 48.0\n",
            "Division: 3.0\n",
            "Modulus: 0.0\n"
          ]
        }
      ]
    },
    {
      "cell_type": "code",
      "source": [
        "# Question Write a program to demonstrate the use of logical operators.\n",
        "\n",
        "# Take input from the user\n",
        "age = int(input(\"Enter your age: \"))\n",
        "has_ticket = input(\"Do you have a ticket? (yes/no): \").strip().lower()\n",
        "\n",
        "# Logical operations\n",
        "print(\"\\n--- Logical Operator Results ---\")\n",
        "\n",
        "# and operator\n",
        "if age >= 18 and has_ticket == \"yes\":\n",
        "    print(\"You are allowed to enter (AND condition passed).\")\n",
        "else:\n",
        "    print(\"You are NOT allowed to enter (AND condition failed).\")\n",
        "\n",
        "# or operator\n",
        "if age >= 18 or has_ticket == \"yes\":\n",
        "    print(\"You meet at least one requirement (OR condition passed).\")\n",
        "else:\n",
        "    print(\"You meet none of the requirements (OR condition failed).\")\n",
        "\n",
        "# not operator\n",
        "if not (has_ticket == \"yes\"):\n",
        "    print(\"You don't have a ticket (NOT condition is True).\")\n",
        "else:\n",
        "    print(\"You have a ticket (NOT condition is False).\")\n"
      ],
      "metadata": {
        "colab": {
          "base_uri": "https://localhost:8080/"
        },
        "id": "3eL4DNIFE3td",
        "outputId": "afebe9bd-bed2-4fd5-dbd0-bdf66664ef8b"
      },
      "execution_count": null,
      "outputs": [
        {
          "output_type": "stream",
          "name": "stdout",
          "text": [
            "Enter your age: 20\n",
            "Do you have a ticket? (yes/no): no\n",
            "\n",
            "--- Logical Operator Results ---\n",
            "You are NOT allowed to enter (AND condition failed).\n",
            "You meet at least one requirement (OR condition passed).\n",
            "You don't have a ticket (NOT condition is True).\n"
          ]
        }
      ]
    },
    {
      "cell_type": "code",
      "source": [
        "# Question  Write a Python program to convert user input from string to integer, float, and boolean types.\n",
        "\n",
        "# Take input as string\n",
        "user_input = input(\"Enter a value: \")\n",
        "\n",
        "# Convert to integer\n",
        "try:\n",
        "    int_value = int(user_input)\n",
        "    print(\"Integer value:\", int_value)\n",
        "except ValueError:\n",
        "    print(\"Cannot convert to integer.\")\n",
        "\n",
        "# Convert to float\n",
        "try:\n",
        "    float_value = float(user_input)\n",
        "    print(\"Float value:\", float_value)\n",
        "except ValueError:\n",
        "    print(\"Cannot convert to float.\")\n",
        "\n",
        "# Convert to boolean\n",
        "# Empty string or \"false\"/\"0\" is considered False; otherwise True\n",
        "bool_value = bool(user_input.strip()) and user_input.strip().lower() not in [\"false\", \"0\", \"no\"]\n",
        "print(\"Boolean value:\", bool_value)"
      ],
      "metadata": {
        "colab": {
          "base_uri": "https://localhost:8080/"
        },
        "id": "IqoZJpnvFWUm",
        "outputId": "e9135062-2879-4444-9ad6-667f185b8220"
      },
      "execution_count": null,
      "outputs": [
        {
          "output_type": "stream",
          "name": "stdout",
          "text": [
            "Enter a value: hello\n",
            "Cannot convert to integer.\n",
            "Cannot convert to float.\n",
            "Boolean value: True\n"
          ]
        }
      ]
    },
    {
      "cell_type": "code",
      "source": [
        "  # Question  Write code to demonstrate type casting with list elements.\n",
        "  # Original list of strings\n",
        "str_list = ['10', '20', '30', '40.5', 'True', 'False', 'hello']\n",
        "\n",
        "print(\"Original list:\", str_list)\n",
        "\n",
        "# Convert string elements to integers (only valid if the string represents an integer)\n",
        "int_list = []\n",
        "for item in str_list:\n",
        "    try:\n",
        "        int_list.append(int(float(item)))  # Using float() first to handle '40.5'\n",
        "    except ValueError:\n",
        "        int_list.append(None)  # None if not convertible\n",
        "print(\"List converted to integers:\", int_list)\n",
        "\n",
        "# Convert string elements to floats\n",
        "float_list = []\n",
        "for item in str_list:\n",
        "    try:\n",
        "        float_list.append(float(item))\n",
        "    except ValueError:\n",
        "        float_list.append(None)\n",
        "print(\"List converted to floats:\", float_list)\n",
        "\n",
        "# Convert string elements to booleans\n",
        "bool_list = [item.strip().lower() not in ['false', '0', '', 'none'] for item in str_list]\n",
        "print(\"List converted to booleans:\", bool_list)\n"
      ],
      "metadata": {
        "colab": {
          "base_uri": "https://localhost:8080/"
        },
        "id": "OaSmnIC3F9VR",
        "outputId": "38e26291-31a9-4b15-8932-e74777e3ed42"
      },
      "execution_count": null,
      "outputs": [
        {
          "output_type": "stream",
          "name": "stdout",
          "text": [
            "Original list: ['10', '20', '30', '40.5', 'True', 'False', 'hello']\n",
            "List converted to integers: [10, 20, 30, 40, None, None, None]\n",
            "List converted to floats: [10.0, 20.0, 30.0, 40.5, None, None, None]\n",
            "List converted to booleans: [True, True, True, True, True, False, True]\n"
          ]
        }
      ]
    },
    {
      "cell_type": "code",
      "source": [
        "# Question  Write a program that checks if a number is positive, negative, or zero.\n",
        "# Take input from the user and convert it to float\n",
        "num = float(input(\"Enter a number: \"))\n",
        "\n",
        "# Check conditions\n",
        "if num > 0:\n",
        "    print(\"The number is positive.\")\n",
        "elif num < 0:\n",
        "    print(\"The number is negative.\")\n",
        "else:\n",
        "    print(\"The number is zero.\")"
      ],
      "metadata": {
        "colab": {
          "base_uri": "https://localhost:8080/"
        },
        "id": "cNvpg92jLm3b",
        "outputId": "b00b458b-ac40-4f49-b79e-ea1365476350"
      },
      "execution_count": null,
      "outputs": [
        {
          "output_type": "stream",
          "name": "stdout",
          "text": [
            "Enter a number: 12\n",
            "The number is positive.\n"
          ]
        }
      ]
    },
    {
      "cell_type": "code",
      "source": [
        "# Question Write a for loop to print numbers from 1 to 10.\n",
        "for i in range(1, 11):\n",
        "    print(i)"
      ],
      "metadata": {
        "colab": {
          "base_uri": "https://localhost:8080/"
        },
        "id": "WRrqzORHMUmC",
        "outputId": "89dc4e54-a637-4879-d5a7-b78c49e29390"
      },
      "execution_count": null,
      "outputs": [
        {
          "output_type": "stream",
          "name": "stdout",
          "text": [
            "1\n",
            "2\n",
            "3\n",
            "4\n",
            "5\n",
            "6\n",
            "7\n",
            "8\n",
            "9\n",
            "10\n"
          ]
        }
      ]
    },
    {
      "cell_type": "code",
      "source": [
        "# Question Write a Python program to find the sum of all even numbers between 1 and 50.\n",
        "sum_even = 0\n",
        "\n",
        "for num in range(1, 51):\n",
        "    if num % 2 == 0:\n",
        "        sum_even += num\n",
        "\n",
        "print(\"Sum of even numbers from 1 to 50 is:\", sum_even)"
      ],
      "metadata": {
        "colab": {
          "base_uri": "https://localhost:8080/"
        },
        "id": "FBMxTiqZMncE",
        "outputId": "69a0c732-9f34-434e-c6d8-55e406b3e604"
      },
      "execution_count": null,
      "outputs": [
        {
          "output_type": "stream",
          "name": "stdout",
          "text": [
            "Sum of even numbers from 1 to 50 is: 650\n"
          ]
        }
      ]
    },
    {
      "cell_type": "code",
      "source": [
        "# Question  Write a program to reverse a string using a while loop.\n",
        "original_string = input(\"Enter a string: \")\n",
        "\n",
        "# Initialize variables\n",
        "reversed_string = \"\"\n",
        "index = len(original_string) - 1\n",
        "\n",
        "# Reverse the string using while loop\n",
        "while index >= 0:\n",
        "    reversed_string += original_string[index]\n",
        "    index -= 1\n",
        "\n",
        "# Display the reversed string\n",
        "print(\"Reversed string:\", reversed_string)\n",
        "\n"
      ],
      "metadata": {
        "id": "IxFBta4GM3EQ",
        "colab": {
          "base_uri": "https://localhost:8080/"
        },
        "outputId": "65030103-cc90-4009-effc-a936fff91f8c"
      },
      "execution_count": null,
      "outputs": [
        {
          "output_type": "stream",
          "name": "stdout",
          "text": [
            "Enter a string: hello\n",
            "Reversed string: olleh\n"
          ]
        }
      ]
    },
    {
      "cell_type": "code",
      "source": [
        "# Question  Write a Python program to calculate the factorial of a number provided by the user using a while loop.\n",
        "num = int(input(\"Enter a number: \"))\n",
        "\n",
        "# Initialize factorial and counter\n",
        "factorial = 1\n",
        "i = 1\n",
        "\n",
        "# Calculate factorial using while loop\n",
        "while i <= num:\n",
        "    factorial *= i\n",
        "    i += 1\n",
        "\n",
        "# Display the factorial\n",
        "print(f\"Factorial of {num} is: {factorial}\")"
      ],
      "metadata": {
        "colab": {
          "base_uri": "https://localhost:8080/"
        },
        "id": "obbL_cOwO_68",
        "outputId": "0015c490-5735-4f51-ef4c-48c2ababed2d"
      },
      "execution_count": null,
      "outputs": [
        {
          "output_type": "stream",
          "name": "stdout",
          "text": [
            "Enter a number: 5\n",
            "Factorial of 5 is: 120\n"
          ]
        }
      ]
    }
  ]
}